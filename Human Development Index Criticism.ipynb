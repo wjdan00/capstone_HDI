{
 "cells": [
  {
   "cell_type": "markdown",
   "metadata": {},
   "source": [
    "   # CAPSTONE PROJECT "
   ]
  },
  {
   "cell_type": "markdown",
   "metadata": {},
   "source": [
    "#### PROBLEM Statement :\n",
    "- Critic overview on the Human Development Index on Environmental Safety and Economic health\n",
    "\n",
    "Theory:\n",
    "The United Nations Development Program have set an index called the Human Development Index ‘HDI’ to masseur the development and life quality in each country on detailed attributes within three main aspects of human life: Health, Education and Income.\n",
    "The importance within this index relies on the fact that it sets the role models countries for other countries to follow it polices and guidelines in order to active the same level of development as well, so the index should be reliable and well generlized.\n",
    "\n",
    "My theory states that NOT every country that increases in it HDI will contribute positively with Environmental, personal safety and Economic health in which will make the HDI is questionable and not sufficient to make a fair or reliable judgment for the development within these countries.\n",
    "Espicaly the Arabic countries in the environmental part.\n",
    "\n",
    "**Approach:**\n",
    "\n",
    "- **First critic overview, Environmental**\n",
    "- I will take the countries with HDI increase rate between 2012 and 2017,compare it to the PM2.5 air pollution exposure.\n",
    "- Exposure to PM2.5 has multiple short term and long term health impacts, A prolonged exposure to PM2.5 can cause permanent respiratory problems such as asthma, chronic bronchitis and heart disease.\n",
    "Research shows that every 10ug/m3 increase in PM 2.5, increases all-cause mortality between 3-26%, chances of childhood asthma by 16%, chances of lung cancer by 36% and heart attacks by 44%.\n",
    "\n",
    "- **Second critic overview, Personal Safety index**\n",
    "- The countries that passed the first critic overview will be taken to see the rates of the personal safety percentage change within the five years.\n",
    "-The personal safety index is a percentage that Mauser the scores of Homicide rate, Perceived criminality, Political killings and torture, Traffic deaths.\n",
    "This index is developed by The Social Progress Imperative - Washington, DC.\n",
    "\n",
    "- **Third critic overview,, -Economic health:**\n",
    "\n",
    "- The countries that passed the first and second critic overview will be uptaken to see state of it debt-to-GDP percentage.\n",
    "\n",
    "- The debt-to-GDP percentage is the metric comparing a country's public debt to its gross domestic product (GDP). By comparing what a country owes with what it produces, the debt-to-GDP ratio reliably indicates that particular country’s ability to pay back its debts.\n",
    "\n",
    "- i will see which countries that manged to reduce the dept and then i will fetch the healthier economic one by taking the countries with less than 77% debt-to-GDP, as a study by the World Bank found that if the debt-to-GDP ratio of a country exceeds 77% for an extended period of time, it slows economic growth and puts the countries in higher economic risks.\n",
    "\n",
    "- **Intervention:**\n",
    "- intervention will be discussed with the conclusion"
   ]
  },
  {
   "cell_type": "markdown",
   "metadata": {},
   "source": [
    "# Importting libraries "
   ]
  },
  {
   "cell_type": "code",
   "execution_count": 1453,
   "metadata": {},
   "outputs": [],
   "source": [
    "import pandas as pd\n",
    "from matplotlib import pyplot as plt\n",
    "import seaborn as sns\n",
    "import numpy as np\n",
    "import warnings\n",
    "warnings.filterwarnings('ignore')\n",
    "from scipy import stats\n",
    "sns.set_style('white')\n",
    "co=['#174147','#98B6C1','#2C8592','#BFD1D7','#05BCD8','#96E4F0','#216772','#B2E0F0']\n",
    "import patsy\n",
    "import matplotlib.pyplot as plt\n",
    "plt.style.use('fivethirtyeight')\n",
    "sns.set(font_scale=1.5)\n",
    "%matplotlib inline\n",
    "%config InlineBackend.figure_format = 'retina'"
   ]
  },
  {
   "cell_type": "markdown",
   "metadata": {},
   "source": [
    "# Part one - HDI"
   ]
  },
  {
   "cell_type": "markdown",
   "metadata": {},
   "source": [
    "## Importing the human developmnt index -HDI- "
   ]
  },
  {
   "cell_type": "code",
   "execution_count": 1474,
   "metadata": {},
   "outputs": [],
   "source": [
    "hdi= pd.read_csv('HDI_.csv').round(2)"
   ]
  },
  {
   "cell_type": "code",
   "execution_count": 1475,
   "metadata": {},
   "outputs": [],
   "source": [
    "hdi = hdi.set_index(['Country_'])"
   ]
  },
  {
   "cell_type": "markdown",
   "metadata": {},
   "source": [
    "### Find the countries that incresed in the HDI rate in the on 2012-2017"
   ]
  },
  {
   "cell_type": "code",
   "execution_count": 1476,
   "metadata": {},
   "outputs": [],
   "source": [
    "hdi['change_rate'] =  (hdi.HDI_2017-hdi.HDI_2012)/hdi.HDI_2012*100"
   ]
  },
  {
   "cell_type": "markdown",
   "metadata": {},
   "source": [
    "### Take the countries with incresed HDI"
   ]
  },
  {
   "cell_type": "code",
   "execution_count": 1477,
   "metadata": {},
   "outputs": [],
   "source": [
    "subset_high_C = hdi[(hdi['change_rate'] >= 0)] #subset"
   ]
  },
  {
   "cell_type": "code",
   "execution_count": 1478,
   "metadata": {
    "scrolled": true
   },
   "outputs": [
    {
     "data": {
      "text/plain": [
       "(156, 10)"
      ]
     },
     "execution_count": 1478,
     "metadata": {},
     "output_type": "execute_result"
    }
   ],
   "source": [
    "subset_high_C.shape #check shape"
   ]
  },
  {
   "cell_type": "code",
   "execution_count": 1459,
   "metadata": {},
   "outputs": [
    {
     "data": {
      "text/html": [
       "<div>\n",
       "<style scoped>\n",
       "    .dataframe tbody tr th:only-of-type {\n",
       "        vertical-align: middle;\n",
       "    }\n",
       "\n",
       "    .dataframe tbody tr th {\n",
       "        vertical-align: top;\n",
       "    }\n",
       "\n",
       "    .dataframe thead th {\n",
       "        text-align: right;\n",
       "    }\n",
       "</style>\n",
       "<table border=\"1\" class=\"dataframe\">\n",
       "  <thead>\n",
       "    <tr style=\"text-align: right;\">\n",
       "      <th></th>\n",
       "      <th>HDI_2010</th>\n",
       "      <th>HDI_2011</th>\n",
       "      <th>HDI_2012</th>\n",
       "      <th>HDI_2013</th>\n",
       "      <th>HDI_2014</th>\n",
       "      <th>HDI_2015</th>\n",
       "      <th>HDI_2016</th>\n",
       "      <th>HDI_2017</th>\n",
       "      <th>Country</th>\n",
       "      <th>change_rate</th>\n",
       "    </tr>\n",
       "    <tr>\n",
       "      <th>Country_</th>\n",
       "      <th></th>\n",
       "      <th></th>\n",
       "      <th></th>\n",
       "      <th></th>\n",
       "      <th></th>\n",
       "      <th></th>\n",
       "      <th></th>\n",
       "      <th></th>\n",
       "      <th></th>\n",
       "      <th></th>\n",
       "    </tr>\n",
       "  </thead>\n",
       "  <tbody>\n",
       "    <tr>\n",
       "      <th>Afghanistan</th>\n",
       "      <td>0.46</td>\n",
       "      <td>0.47</td>\n",
       "      <td>0.48</td>\n",
       "      <td>0.49</td>\n",
       "      <td>0.49</td>\n",
       "      <td>0.49</td>\n",
       "      <td>0.49</td>\n",
       "      <td>0.50</td>\n",
       "      <td>Afghanistan</td>\n",
       "      <td>4.17</td>\n",
       "    </tr>\n",
       "    <tr>\n",
       "      <th>Albania</th>\n",
       "      <td>0.74</td>\n",
       "      <td>0.75</td>\n",
       "      <td>0.77</td>\n",
       "      <td>0.77</td>\n",
       "      <td>0.77</td>\n",
       "      <td>0.78</td>\n",
       "      <td>0.78</td>\n",
       "      <td>0.78</td>\n",
       "      <td>Albania</td>\n",
       "      <td>1.30</td>\n",
       "    </tr>\n",
       "    <tr>\n",
       "      <th>Algeria</th>\n",
       "      <td>0.73</td>\n",
       "      <td>0.74</td>\n",
       "      <td>0.74</td>\n",
       "      <td>0.74</td>\n",
       "      <td>0.75</td>\n",
       "      <td>0.75</td>\n",
       "      <td>0.75</td>\n",
       "      <td>0.75</td>\n",
       "      <td>Algeria</td>\n",
       "      <td>1.35</td>\n",
       "    </tr>\n",
       "    <tr>\n",
       "      <th>Argentina</th>\n",
       "      <td>0.81</td>\n",
       "      <td>0.82</td>\n",
       "      <td>0.82</td>\n",
       "      <td>0.82</td>\n",
       "      <td>0.82</td>\n",
       "      <td>0.82</td>\n",
       "      <td>0.82</td>\n",
       "      <td>0.82</td>\n",
       "      <td>Argentina</td>\n",
       "      <td>0.00</td>\n",
       "    </tr>\n",
       "    <tr>\n",
       "      <th>Armenia</th>\n",
       "      <td>0.73</td>\n",
       "      <td>0.73</td>\n",
       "      <td>0.74</td>\n",
       "      <td>0.74</td>\n",
       "      <td>0.74</td>\n",
       "      <td>0.75</td>\n",
       "      <td>0.75</td>\n",
       "      <td>0.76</td>\n",
       "      <td>Armenia</td>\n",
       "      <td>2.70</td>\n",
       "    </tr>\n",
       "  </tbody>\n",
       "</table>\n",
       "</div>"
      ],
      "text/plain": [
       "             HDI_2010  HDI_2011  HDI_2012  HDI_2013  HDI_2014  HDI_2015  \\\n",
       "Country_                                                                  \n",
       "Afghanistan      0.46      0.47      0.48      0.49      0.49      0.49   \n",
       "Albania          0.74      0.75      0.77      0.77      0.77      0.78   \n",
       "Algeria          0.73      0.74      0.74      0.74      0.75      0.75   \n",
       "Argentina        0.81      0.82      0.82      0.82      0.82      0.82   \n",
       "Armenia          0.73      0.73      0.74      0.74      0.74      0.75   \n",
       "\n",
       "             HDI_2016  HDI_2017      Country  change_rate  \n",
       "Country_                                                   \n",
       "Afghanistan      0.49      0.50  Afghanistan         4.17  \n",
       "Albania          0.78      0.78      Albania         1.30  \n",
       "Algeria          0.75      0.75      Algeria         1.35  \n",
       "Argentina        0.82      0.82    Argentina         0.00  \n",
       "Armenia          0.75      0.76      Armenia         2.70  "
      ]
     },
     "execution_count": 1459,
     "metadata": {},
     "output_type": "execute_result"
    }
   ],
   "source": [
    "subset_high_C.round(2).head() #check the datafram"
   ]
  },
  {
   "cell_type": "markdown",
   "metadata": {},
   "source": [
    "#### Out of 160 countries, 156 countries incresed in thier HDI , \n",
    "\n",
    "Now i will just check the countries with decresed HDI"
   ]
  },
  {
   "cell_type": "code",
   "execution_count": 1359,
   "metadata": {},
   "outputs": [],
   "source": [
    "subset_low_c = hdi[(hdi['change_rate'] < 0)]"
   ]
  },
  {
   "cell_type": "code",
   "execution_count": 1360,
   "metadata": {
    "scrolled": false
   },
   "outputs": [
    {
     "data": {
      "text/html": [
       "<div>\n",
       "<style scoped>\n",
       "    .dataframe tbody tr th:only-of-type {\n",
       "        vertical-align: middle;\n",
       "    }\n",
       "\n",
       "    .dataframe tbody tr th {\n",
       "        vertical-align: top;\n",
       "    }\n",
       "\n",
       "    .dataframe thead th {\n",
       "        text-align: right;\n",
       "    }\n",
       "</style>\n",
       "<table border=\"1\" class=\"dataframe\">\n",
       "  <thead>\n",
       "    <tr style=\"text-align: right;\">\n",
       "      <th></th>\n",
       "      <th>HDI_2010</th>\n",
       "      <th>HDI_2011</th>\n",
       "      <th>HDI_2012</th>\n",
       "      <th>HDI_2013</th>\n",
       "      <th>HDI_2014</th>\n",
       "      <th>HDI_2015</th>\n",
       "      <th>HDI_2016</th>\n",
       "      <th>HDI_2017</th>\n",
       "      <th>Country</th>\n",
       "      <th>change_rate</th>\n",
       "    </tr>\n",
       "    <tr>\n",
       "      <th>Country_</th>\n",
       "      <th></th>\n",
       "      <th></th>\n",
       "      <th></th>\n",
       "      <th></th>\n",
       "      <th></th>\n",
       "      <th></th>\n",
       "      <th></th>\n",
       "      <th></th>\n",
       "      <th></th>\n",
       "      <th></th>\n",
       "    </tr>\n",
       "  </thead>\n",
       "  <tbody>\n",
       "    <tr>\n",
       "      <th>Libya</th>\n",
       "      <td>0.76</td>\n",
       "      <td>0.71</td>\n",
       "      <td>0.74</td>\n",
       "      <td>0.71</td>\n",
       "      <td>0.70</td>\n",
       "      <td>0.69</td>\n",
       "      <td>0.69</td>\n",
       "      <td>0.71</td>\n",
       "      <td>Libya</td>\n",
       "      <td>-4.054054</td>\n",
       "    </tr>\n",
       "    <tr>\n",
       "      <th>Syria</th>\n",
       "      <td>0.64</td>\n",
       "      <td>0.64</td>\n",
       "      <td>0.63</td>\n",
       "      <td>0.57</td>\n",
       "      <td>0.55</td>\n",
       "      <td>0.54</td>\n",
       "      <td>0.54</td>\n",
       "      <td>0.54</td>\n",
       "      <td>Syria</td>\n",
       "      <td>-14.285714</td>\n",
       "    </tr>\n",
       "    <tr>\n",
       "      <th>Venezuela</th>\n",
       "      <td>0.76</td>\n",
       "      <td>0.77</td>\n",
       "      <td>0.77</td>\n",
       "      <td>0.78</td>\n",
       "      <td>0.78</td>\n",
       "      <td>0.78</td>\n",
       "      <td>0.77</td>\n",
       "      <td>0.76</td>\n",
       "      <td>Venezuela</td>\n",
       "      <td>-1.298701</td>\n",
       "    </tr>\n",
       "    <tr>\n",
       "      <th>Yemen</th>\n",
       "      <td>0.50</td>\n",
       "      <td>0.50</td>\n",
       "      <td>0.50</td>\n",
       "      <td>0.51</td>\n",
       "      <td>0.50</td>\n",
       "      <td>0.48</td>\n",
       "      <td>0.46</td>\n",
       "      <td>0.45</td>\n",
       "      <td>Yemen</td>\n",
       "      <td>-10.000000</td>\n",
       "    </tr>\n",
       "  </tbody>\n",
       "</table>\n",
       "</div>"
      ],
      "text/plain": [
       "           HDI_2010  HDI_2011  HDI_2012  HDI_2013  HDI_2014  HDI_2015  \\\n",
       "Country_                                                                \n",
       "Libya          0.76      0.71      0.74      0.71      0.70      0.69   \n",
       "Syria          0.64      0.64      0.63      0.57      0.55      0.54   \n",
       "Venezuela      0.76      0.77      0.77      0.78      0.78      0.78   \n",
       "Yemen          0.50      0.50      0.50      0.51      0.50      0.48   \n",
       "\n",
       "           HDI_2016  HDI_2017    Country  change_rate  \n",
       "Country_                                               \n",
       "Libya          0.69      0.71      Libya    -4.054054  \n",
       "Syria          0.54      0.54      Syria   -14.285714  \n",
       "Venezuela      0.77      0.76  Venezuela    -1.298701  \n",
       "Yemen          0.46      0.45      Yemen   -10.000000  "
      ]
     },
     "execution_count": 1360,
     "metadata": {},
     "output_type": "execute_result"
    }
   ],
   "source": [
    "subset_low_c"
   ]
  },
  {
   "cell_type": "markdown",
   "metadata": {},
   "source": [
    "it is logical for these countries to have lower HDI regarding thier war and political distress."
   ]
  },
  {
   "cell_type": "markdown",
   "metadata": {},
   "source": [
    "## Now i know the 156 countries that incresed in the HDI, lets look up their PM2.5 rates  "
   ]
  },
  {
   "cell_type": "code",
   "execution_count": 1470,
   "metadata": {},
   "outputs": [],
   "source": [
    "#taking the incresed HDI countries for the next stage and look up the pm2.5 data for them.\n",
    "pm_countries = pd.DataFrame()\n",
    "pm_countries['countries'] = subset_high_C.index\n",
    "#pm_countries.to_csv('pm_countries.csv')"
   ]
  },
  {
   "cell_type": "markdown",
   "metadata": {},
   "source": [
    "_________________________"
   ]
  },
  {
   "cell_type": "markdown",
   "metadata": {},
   "source": [
    "______________"
   ]
  },
  {
   "cell_type": "markdown",
   "metadata": {},
   "source": [
    "# Part Two - PM2.5 air polution \n",
    "i got the data for the countries that passed the first critic overview, however,<font color=\"red\">,there was 20 Countries with NO PM2.5 data </font>\n",
    "- PM2.5 air pollution fetched is masuerd by the mean annual exposure (micrograms per cubic meter)"
   ]
  },
  {
   "cell_type": "markdown",
   "metadata": {},
   "source": [
    "- what i am going to check ? \n",
    " - First, does all incresed  HDI countries contrubuited to the envairoment positivly ?\n",
    " - second, how many ararbic countries contruibitd positivly ?\n",
    "\n",
    "   lets see ! "
   ]
  },
  {
   "cell_type": "markdown",
   "metadata": {},
   "source": [
    "###  Import the P2.5 data "
   ]
  },
  {
   "cell_type": "code",
   "execution_count": 1512,
   "metadata": {},
   "outputs": [],
   "source": [
    "air = pd.read_csv('pm2.5_.csv').round(3)"
   ]
  },
  {
   "cell_type": "code",
   "execution_count": 1513,
   "metadata": {},
   "outputs": [
    {
     "data": {
      "text/plain": [
       "(136, 11)"
      ]
     },
     "execution_count": 1513,
     "metadata": {},
     "output_type": "execute_result"
    }
   ],
   "source": [
    "air.shape"
   ]
  },
  {
   "cell_type": "code",
   "execution_count": 1514,
   "metadata": {},
   "outputs": [],
   "source": [
    "air = air.set_index(['Country_'])"
   ]
  },
  {
   "cell_type": "markdown",
   "metadata": {},
   "source": [
    "### Define the arabic countries "
   ]
  },
  {
   "cell_type": "code",
   "execution_count": 1515,
   "metadata": {},
   "outputs": [],
   "source": [
    "arabic_countries=['Jordan','United Arab Emirates','Tunisia','Sudan','Kuwait','South Sudan','Iraq','Saudi Arabia','Qatar','Oman','Morocco','Mauritania','Egypt, Arab Rep.','Bahrain','Algeria']"
   ]
  },
  {
   "cell_type": "code",
   "execution_count": 1516,
   "metadata": {},
   "outputs": [],
   "source": [
    "test =[]\n",
    "for i in air.index:\n",
    "    if i in arabic_countries:\n",
    "        test.append(1)\n",
    "    else:\n",
    "        test.append(0)"
   ]
  },
  {
   "cell_type": "code",
   "execution_count": 1517,
   "metadata": {},
   "outputs": [],
   "source": [
    "air['arabic'] = test"
   ]
  },
  {
   "cell_type": "code",
   "execution_count": 1518,
   "metadata": {},
   "outputs": [],
   "source": [
    "arabic = air[air['arabic']==1]"
   ]
  },
  {
   "cell_type": "markdown",
   "metadata": {},
   "source": [
    "###  Massure the change rate betweent 2012-2017"
   ]
  },
  {
   "cell_type": "code",
   "execution_count": 1519,
   "metadata": {},
   "outputs": [],
   "source": [
    "air['change_rate'] =  (air.pm_2017-air.pm_2012)/air.pm_2012 *100"
   ]
  },
  {
   "cell_type": "code",
   "execution_count": 1520,
   "metadata": {},
   "outputs": [],
   "source": [
    "air['diffreance'] =  (air.pm_2017-air.pm_2012)"
   ]
  },
  {
   "cell_type": "markdown",
   "metadata": {},
   "source": [
    "####  Distinguish between the incresed pm2.5 and the decrese pm2.5 "
   ]
  },
  {
   "cell_type": "code",
   "execution_count": 1521,
   "metadata": {
    "scrolled": true
   },
   "outputs": [],
   "source": [
    "incresed_p = air[(air['change_rate'] >= 0)]"
   ]
  },
  {
   "cell_type": "code",
   "execution_count": 1522,
   "metadata": {},
   "outputs": [
    {
     "data": {
      "text/plain": [
       "45"
      ]
     },
     "execution_count": 1522,
     "metadata": {},
     "output_type": "execute_result"
    }
   ],
   "source": [
    "incresed_p.index.value_counts().sum() # countries with incresed pm2.5 rate"
   ]
  },
  {
   "cell_type": "code",
   "execution_count": 1523,
   "metadata": {},
   "outputs": [],
   "source": [
    "arabic_incresed = incresed_p[incresed_p['arabic']==1]"
   ]
  },
  {
   "cell_type": "code",
   "execution_count": 1524,
   "metadata": {},
   "outputs": [],
   "source": [
    "decresed_P = air[(air['change_rate'] < 0)].round(2) "
   ]
  },
  {
   "cell_type": "code",
   "execution_count": 1525,
   "metadata": {
    "scrolled": false
   },
   "outputs": [
    {
     "data": {
      "text/plain": [
       "91"
      ]
     },
     "execution_count": 1525,
     "metadata": {},
     "output_type": "execute_result"
    }
   ],
   "source": [
    "decresed_P.index.value_counts().sum()# countries with decresed pm2.5 rate"
   ]
  },
  {
   "cell_type": "code",
   "execution_count": 1526,
   "metadata": {},
   "outputs": [],
   "source": [
    "# Idenitify highest decrese in pm2.5 pollution "
   ]
  },
  {
   "cell_type": "code",
   "execution_count": 1527,
   "metadata": {
    "scrolled": true
   },
   "outputs": [
    {
     "data": {
      "text/html": [
       "<div>\n",
       "<style scoped>\n",
       "    .dataframe tbody tr th:only-of-type {\n",
       "        vertical-align: middle;\n",
       "    }\n",
       "\n",
       "    .dataframe tbody tr th {\n",
       "        vertical-align: top;\n",
       "    }\n",
       "\n",
       "    .dataframe thead th {\n",
       "        text-align: right;\n",
       "    }\n",
       "</style>\n",
       "<table border=\"1\" class=\"dataframe\">\n",
       "  <thead>\n",
       "    <tr style=\"text-align: right;\">\n",
       "      <th></th>\n",
       "      <th>code</th>\n",
       "      <th>pm_2010</th>\n",
       "      <th>pm_2011</th>\n",
       "      <th>pm_2012</th>\n",
       "      <th>pm_2013</th>\n",
       "      <th>pm_2014</th>\n",
       "      <th>pm_2015</th>\n",
       "      <th>pm_2016</th>\n",
       "      <th>pm_2017</th>\n",
       "      <th>Country</th>\n",
       "      <th>arabic</th>\n",
       "      <th>change_rate</th>\n",
       "      <th>diffreance</th>\n",
       "    </tr>\n",
       "    <tr>\n",
       "      <th>Country_</th>\n",
       "      <th></th>\n",
       "      <th></th>\n",
       "      <th></th>\n",
       "      <th></th>\n",
       "      <th></th>\n",
       "      <th></th>\n",
       "      <th></th>\n",
       "      <th></th>\n",
       "      <th></th>\n",
       "      <th></th>\n",
       "      <th></th>\n",
       "      <th></th>\n",
       "      <th></th>\n",
       "    </tr>\n",
       "  </thead>\n",
       "  <tbody>\n",
       "    <tr>\n",
       "      <th>Sri Lanka</th>\n",
       "      <td>LKA</td>\n",
       "      <td>31.03</td>\n",
       "      <td>31.23</td>\n",
       "      <td>30.08</td>\n",
       "      <td>28.90</td>\n",
       "      <td>26.92</td>\n",
       "      <td>25.34</td>\n",
       "      <td>14.02</td>\n",
       "      <td>11.10</td>\n",
       "      <td>Sri Lanka</td>\n",
       "      <td>0</td>\n",
       "      <td>-63.10</td>\n",
       "      <td>-18.98</td>\n",
       "    </tr>\n",
       "    <tr>\n",
       "      <th>China</th>\n",
       "      <td>CHN</td>\n",
       "      <td>69.48</td>\n",
       "      <td>70.54</td>\n",
       "      <td>63.83</td>\n",
       "      <td>65.52</td>\n",
       "      <td>59.77</td>\n",
       "      <td>59.06</td>\n",
       "      <td>52.21</td>\n",
       "      <td>52.66</td>\n",
       "      <td>China</td>\n",
       "      <td>0</td>\n",
       "      <td>-17.49</td>\n",
       "      <td>-11.16</td>\n",
       "    </tr>\n",
       "    <tr>\n",
       "      <th>Bangladesh</th>\n",
       "      <td>BGD</td>\n",
       "      <td>70.76</td>\n",
       "      <td>70.21</td>\n",
       "      <td>70.79</td>\n",
       "      <td>65.64</td>\n",
       "      <td>68.40</td>\n",
       "      <td>66.97</td>\n",
       "      <td>60.13</td>\n",
       "      <td>60.85</td>\n",
       "      <td>Bangladesh</td>\n",
       "      <td>0</td>\n",
       "      <td>-14.05</td>\n",
       "      <td>-9.95</td>\n",
       "    </tr>\n",
       "    <tr>\n",
       "      <th>Afghanistan</th>\n",
       "      <td>AFG</td>\n",
       "      <td>65.25</td>\n",
       "      <td>66.84</td>\n",
       "      <td>66.02</td>\n",
       "      <td>61.37</td>\n",
       "      <td>59.01</td>\n",
       "      <td>61.25</td>\n",
       "      <td>56.29</td>\n",
       "      <td>56.91</td>\n",
       "      <td>Afghanistan</td>\n",
       "      <td>0</td>\n",
       "      <td>-13.80</td>\n",
       "      <td>-9.11</td>\n",
       "    </tr>\n",
       "    <tr>\n",
       "      <th>Vietnam</th>\n",
       "      <td>VNM</td>\n",
       "      <td>39.36</td>\n",
       "      <td>38.49</td>\n",
       "      <td>37.23</td>\n",
       "      <td>36.84</td>\n",
       "      <td>34.90</td>\n",
       "      <td>32.47</td>\n",
       "      <td>30.24</td>\n",
       "      <td>29.63</td>\n",
       "      <td>Vietnam</td>\n",
       "      <td>0</td>\n",
       "      <td>-20.42</td>\n",
       "      <td>-7.60</td>\n",
       "    </tr>\n",
       "  </tbody>\n",
       "</table>\n",
       "</div>"
      ],
      "text/plain": [
       "            code  pm_2010  pm_2011  pm_2012  pm_2013  pm_2014  pm_2015  \\\n",
       "Country_                                                                 \n",
       "Sri Lanka    LKA    31.03    31.23    30.08    28.90    26.92    25.34   \n",
       "China        CHN    69.48    70.54    63.83    65.52    59.77    59.06   \n",
       "Bangladesh   BGD    70.76    70.21    70.79    65.64    68.40    66.97   \n",
       "Afghanistan  AFG    65.25    66.84    66.02    61.37    59.01    61.25   \n",
       "Vietnam      VNM    39.36    38.49    37.23    36.84    34.90    32.47   \n",
       "\n",
       "             pm_2016  pm_2017      Country  arabic  change_rate  diffreance  \n",
       "Country_                                                                     \n",
       "Sri Lanka      14.02    11.10    Sri Lanka       0       -63.10      -18.98  \n",
       "China          52.21    52.66        China       0       -17.49      -11.16  \n",
       "Bangladesh     60.13    60.85   Bangladesh       0       -14.05       -9.95  \n",
       "Afghanistan    56.29    56.91  Afghanistan       0       -13.80       -9.11  \n",
       "Vietnam        30.24    29.63      Vietnam       0       -20.42       -7.60  "
      ]
     },
     "execution_count": 1527,
     "metadata": {},
     "output_type": "execute_result"
    }
   ],
   "source": [
    "decresed_P.sort_values(by=\"diffreance\" ).head(5) # top 10 in the highest decrese."
   ]
  },
  {
   "cell_type": "code",
   "execution_count": 1528,
   "metadata": {},
   "outputs": [],
   "source": [
    "# outside reserch to do - find out what those countries were doing to get this decreese in the pm2.5"
   ]
  },
  {
   "cell_type": "code",
   "execution_count": 1529,
   "metadata": {},
   "outputs": [],
   "source": [
    "arabic_decresed = decresed_P[decresed_P['arabic']==1]"
   ]
  },
  {
   "cell_type": "code",
   "execution_count": 1530,
   "metadata": {
    "scrolled": true
   },
   "outputs": [
    {
     "data": {
      "text/html": [
       "<div>\n",
       "<style scoped>\n",
       "    .dataframe tbody tr th:only-of-type {\n",
       "        vertical-align: middle;\n",
       "    }\n",
       "\n",
       "    .dataframe tbody tr th {\n",
       "        vertical-align: top;\n",
       "    }\n",
       "\n",
       "    .dataframe thead th {\n",
       "        text-align: right;\n",
       "    }\n",
       "</style>\n",
       "<table border=\"1\" class=\"dataframe\">\n",
       "  <thead>\n",
       "    <tr style=\"text-align: right;\">\n",
       "      <th></th>\n",
       "      <th>code</th>\n",
       "      <th>pm_2010</th>\n",
       "      <th>pm_2011</th>\n",
       "      <th>pm_2012</th>\n",
       "      <th>pm_2013</th>\n",
       "      <th>pm_2014</th>\n",
       "      <th>pm_2015</th>\n",
       "      <th>pm_2016</th>\n",
       "      <th>pm_2017</th>\n",
       "      <th>Country</th>\n",
       "      <th>arabic</th>\n",
       "      <th>change_rate</th>\n",
       "      <th>diffreance</th>\n",
       "    </tr>\n",
       "    <tr>\n",
       "      <th>Country_</th>\n",
       "      <th></th>\n",
       "      <th></th>\n",
       "      <th></th>\n",
       "      <th></th>\n",
       "      <th></th>\n",
       "      <th></th>\n",
       "      <th></th>\n",
       "      <th></th>\n",
       "      <th></th>\n",
       "      <th></th>\n",
       "      <th></th>\n",
       "      <th></th>\n",
       "      <th></th>\n",
       "    </tr>\n",
       "  </thead>\n",
       "  <tbody>\n",
       "    <tr>\n",
       "      <th>Iraq</th>\n",
       "      <td>IRQ</td>\n",
       "      <td>68.71</td>\n",
       "      <td>66.36</td>\n",
       "      <td>66.84</td>\n",
       "      <td>63.80</td>\n",
       "      <td>56.57</td>\n",
       "      <td>66.26</td>\n",
       "      <td>63.96</td>\n",
       "      <td>61.64</td>\n",
       "      <td>Iraq</td>\n",
       "      <td>1</td>\n",
       "      <td>-7.79</td>\n",
       "      <td>-5.21</td>\n",
       "    </tr>\n",
       "    <tr>\n",
       "      <th>Kuwait</th>\n",
       "      <td>KWT</td>\n",
       "      <td>62.74</td>\n",
       "      <td>62.82</td>\n",
       "      <td>64.07</td>\n",
       "      <td>62.61</td>\n",
       "      <td>55.62</td>\n",
       "      <td>65.41</td>\n",
       "      <td>60.84</td>\n",
       "      <td>60.74</td>\n",
       "      <td>Kuwait</td>\n",
       "      <td>1</td>\n",
       "      <td>-5.19</td>\n",
       "      <td>-3.33</td>\n",
       "    </tr>\n",
       "  </tbody>\n",
       "</table>\n",
       "</div>"
      ],
      "text/plain": [
       "         code  pm_2010  pm_2011  pm_2012  pm_2013  pm_2014  pm_2015  pm_2016  \\\n",
       "Country_                                                                       \n",
       "Iraq      IRQ    68.71    66.36    66.84    63.80    56.57    66.26    63.96   \n",
       "Kuwait    KWT    62.74    62.82    64.07    62.61    55.62    65.41    60.84   \n",
       "\n",
       "          pm_2017 Country  arabic  change_rate  diffreance  \n",
       "Country_                                                    \n",
       "Iraq        61.64    Iraq       1        -7.79       -5.21  \n",
       "Kuwait      60.74  Kuwait       1        -5.19       -3.33  "
      ]
     },
     "execution_count": 1530,
     "metadata": {},
     "output_type": "execute_result"
    }
   ],
   "source": [
    "arabic_decresed "
   ]
  },
  {
   "cell_type": "markdown",
   "metadata": {},
   "source": [
    "### lets arrange the first theory findings in a data frame ! "
   ]
  },
  {
   "cell_type": "code",
   "execution_count": 1531,
   "metadata": {},
   "outputs": [],
   "source": [
    "F_Theory= pd.DataFrame()"
   ]
  },
  {
   "cell_type": "code",
   "execution_count": 1532,
   "metadata": {},
   "outputs": [],
   "source": [
    "F_Theory['Incresed%'] = [incresed_p.index.value_counts().sum()/air.index.value_counts().sum() *100]"
   ]
  },
  {
   "cell_type": "code",
   "execution_count": 1533,
   "metadata": {},
   "outputs": [],
   "source": [
    "F_Theory['Decresed%'] = [decresed_P.index.value_counts().sum()/air.index.value_counts().sum()*100]"
   ]
  },
  {
   "cell_type": "code",
   "execution_count": 1534,
   "metadata": {},
   "outputs": [],
   "source": [
    "F_Theory['Incresed_arabic']= arabic_incresed.index.value_counts().sum()\n",
    "F_Theory['Decresed_arabic'] = arabic_decresed.index.value_counts().sum()"
   ]
  },
  {
   "cell_type": "code",
   "execution_count": 1535,
   "metadata": {
    "scrolled": true
   },
   "outputs": [
    {
     "data": {
      "text/html": [
       "<div>\n",
       "<style scoped>\n",
       "    .dataframe tbody tr th:only-of-type {\n",
       "        vertical-align: middle;\n",
       "    }\n",
       "\n",
       "    .dataframe tbody tr th {\n",
       "        vertical-align: top;\n",
       "    }\n",
       "\n",
       "    .dataframe thead th {\n",
       "        text-align: right;\n",
       "    }\n",
       "</style>\n",
       "<table border=\"1\" class=\"dataframe\">\n",
       "  <thead>\n",
       "    <tr style=\"text-align: right;\">\n",
       "      <th></th>\n",
       "      <th>Incresed%</th>\n",
       "      <th>Decresed%</th>\n",
       "      <th>Incresed_arabic</th>\n",
       "      <th>Decresed_arabic</th>\n",
       "    </tr>\n",
       "  </thead>\n",
       "  <tbody>\n",
       "    <tr>\n",
       "      <th>0</th>\n",
       "      <td>33.088235</td>\n",
       "      <td>66.911765</td>\n",
       "      <td>13</td>\n",
       "      <td>2</td>\n",
       "    </tr>\n",
       "  </tbody>\n",
       "</table>\n",
       "</div>"
      ],
      "text/plain": [
       "   Incresed%  Decresed%  Incresed_arabic  Decresed_arabic\n",
       "0  33.088235  66.911765               13                2"
      ]
     },
     "execution_count": 1535,
     "metadata": {},
     "output_type": "execute_result"
    }
   ],
   "source": [
    "F_Theory"
   ]
  },
  {
   "cell_type": "markdown",
   "metadata": {},
   "source": [
    "First Theory was proven true : \n",
    "    - Not all countries contrubuit postivily with the HDI incresemnt \n",
    "    - 13!! out of 15 arabic countries contuorbted negetivly !"
   ]
  },
  {
   "cell_type": "markdown",
   "metadata": {},
   "source": [
    " 91 countries only contirubated +ve-ly towards the enviroment, of which only 2 were arabic. \n",
    "### Now lets take the 91 countries with postive contribution towards envaromental health for the next theory :\n",
    "- personal saftey"
   ]
  },
  {
   "cell_type": "code",
   "execution_count": 1536,
   "metadata": {},
   "outputs": [],
   "source": [
    "ps_countries = pd.DataFrame()\n",
    "ps_countries['countries'] = decresed_P.index\n",
    "#pm_countries.to_csv('ps_countriess.csv')"
   ]
  },
  {
   "cell_type": "markdown",
   "metadata": {},
   "source": [
    "   --------------------"
   ]
  },
  {
   "cell_type": "markdown",
   "metadata": {},
   "source": [
    "----------"
   ]
  },
  {
   "cell_type": "markdown",
   "metadata": {},
   "source": [
    "# Third Part : Personal Saftey Index"
   ]
  },
  {
   "cell_type": "markdown",
   "metadata": {},
   "source": [
    "Personal saftey index is a percentage that masuer a calculated scores of Homicide rate,Perceived criminality,Political killings and torture,Traffic deaths, how ever, there was 3 countries with no PSI data"
   ]
  },
  {
   "cell_type": "markdown",
   "metadata": {},
   "source": [
    "- what i am going to check ? \n",
    " - First, does all incresed  HDI countries contrubuited to the personal saftey index positivly ?\n",
    "\n",
    "   lets see ! "
   ]
  },
  {
   "cell_type": "code",
   "execution_count": 1590,
   "metadata": {},
   "outputs": [],
   "source": [
    "ps = pd.read_csv('personal_saftey.csv')"
   ]
  },
  {
   "cell_type": "code",
   "execution_count": 1591,
   "metadata": {},
   "outputs": [
    {
     "data": {
      "text/html": [
       "<div>\n",
       "<style scoped>\n",
       "    .dataframe tbody tr th:only-of-type {\n",
       "        vertical-align: middle;\n",
       "    }\n",
       "\n",
       "    .dataframe tbody tr th {\n",
       "        vertical-align: top;\n",
       "    }\n",
       "\n",
       "    .dataframe thead th {\n",
       "        text-align: right;\n",
       "    }\n",
       "</style>\n",
       "<table border=\"1\" class=\"dataframe\">\n",
       "  <thead>\n",
       "    <tr style=\"text-align: right;\">\n",
       "      <th></th>\n",
       "      <th>Code</th>\n",
       "      <th>ps_2013</th>\n",
       "      <th>ps_2014</th>\n",
       "      <th>ps_2015</th>\n",
       "      <th>ps_2016</th>\n",
       "      <th>ps_2017</th>\n",
       "      <th>ps_2018</th>\n",
       "    </tr>\n",
       "    <tr>\n",
       "      <th>Country</th>\n",
       "      <th></th>\n",
       "      <th></th>\n",
       "      <th></th>\n",
       "      <th></th>\n",
       "      <th></th>\n",
       "      <th></th>\n",
       "      <th></th>\n",
       "    </tr>\n",
       "  </thead>\n",
       "  <tbody>\n",
       "    <tr>\n",
       "      <th>Afghanistan</th>\n",
       "      <td>AFG</td>\n",
       "      <td>45.6</td>\n",
       "      <td>43.88</td>\n",
       "      <td>44.4</td>\n",
       "      <td>44.23</td>\n",
       "      <td>45.63</td>\n",
       "      <td>46.85</td>\n",
       "    </tr>\n",
       "  </tbody>\n",
       "</table>\n",
       "</div>"
      ],
      "text/plain": [
       "            Code  ps_2013  ps_2014  ps_2015  ps_2016  ps_2017  ps_2018\n",
       "Country                                                               \n",
       "Afghanistan  AFG     45.6    43.88     44.4    44.23    45.63    46.85"
      ]
     },
     "execution_count": 1591,
     "metadata": {},
     "output_type": "execute_result"
    }
   ],
   "source": [
    "ps.set_index('Country').head(1)"
   ]
  },
  {
   "cell_type": "code",
   "execution_count": 1592,
   "metadata": {},
   "outputs": [
    {
     "data": {
      "text/plain": [
       "(89, 8)"
      ]
     },
     "execution_count": 1592,
     "metadata": {},
     "output_type": "execute_result"
    }
   ],
   "source": [
    "ps.shape"
   ]
  },
  {
   "cell_type": "code",
   "execution_count": 1593,
   "metadata": {},
   "outputs": [],
   "source": [
    "ps['Personl_change_rate']= (ps['ps_2018']- ps['ps_2013'])/ps['ps_2013']*100"
   ]
  },
  {
   "cell_type": "code",
   "execution_count": 1594,
   "metadata": {},
   "outputs": [
    {
     "data": {
      "text/plain": [
       "(35, 9)"
      ]
     },
     "execution_count": 1594,
     "metadata": {},
     "output_type": "execute_result"
    }
   ],
   "source": [
    "decrese_ps = ps[(ps['Personl_change_rate'] <0)] # countries with decresed peronal saftey\n",
    "decrese_ps.shape"
   ]
  },
  {
   "cell_type": "code",
   "execution_count": 1595,
   "metadata": {
    "scrolled": false
   },
   "outputs": [
    {
     "data": {
      "text/plain": [
       "(54, 9)"
      ]
     },
     "execution_count": 1595,
     "metadata": {},
     "output_type": "execute_result"
    }
   ],
   "source": [
    "incresed_ps = ps[(ps['Personl_change_rate'] >0)] # countries with decresed peronal saftey\n",
    "incresed_ps.shape"
   ]
  },
  {
   "cell_type": "code",
   "execution_count": 1596,
   "metadata": {},
   "outputs": [
    {
     "data": {
      "text/html": [
       "<div>\n",
       "<style scoped>\n",
       "    .dataframe tbody tr th:only-of-type {\n",
       "        vertical-align: middle;\n",
       "    }\n",
       "\n",
       "    .dataframe tbody tr th {\n",
       "        vertical-align: top;\n",
       "    }\n",
       "\n",
       "    .dataframe thead th {\n",
       "        text-align: right;\n",
       "    }\n",
       "</style>\n",
       "<table border=\"1\" class=\"dataframe\">\n",
       "  <thead>\n",
       "    <tr style=\"text-align: right;\">\n",
       "      <th></th>\n",
       "      <th>Country</th>\n",
       "      <th>Code</th>\n",
       "      <th>ps_2013</th>\n",
       "      <th>ps_2014</th>\n",
       "      <th>ps_2015</th>\n",
       "      <th>ps_2016</th>\n",
       "      <th>ps_2017</th>\n",
       "      <th>ps_2018</th>\n",
       "      <th>Personl_change_rate</th>\n",
       "    </tr>\n",
       "  </thead>\n",
       "  <tbody>\n",
       "    <tr>\n",
       "      <th>76</th>\n",
       "      <td>Sri Lanka</td>\n",
       "      <td>LKA</td>\n",
       "      <td>64.67</td>\n",
       "      <td>65.86</td>\n",
       "      <td>69.32</td>\n",
       "      <td>71.79</td>\n",
       "      <td>72.32</td>\n",
       "      <td>73.28</td>\n",
       "      <td>13.313747</td>\n",
       "    </tr>\n",
       "  </tbody>\n",
       "</table>\n",
       "</div>"
      ],
      "text/plain": [
       "      Country Code  ps_2013  ps_2014  ps_2015  ps_2016  ps_2017  ps_2018  \\\n",
       "76  Sri Lanka  LKA    64.67    65.86    69.32    71.79    72.32    73.28   \n",
       "\n",
       "    Personl_change_rate  \n",
       "76            13.313747  "
      ]
     },
     "execution_count": 1596,
     "metadata": {},
     "output_type": "execute_result"
    }
   ],
   "source": [
    "incresed_ps.sort_values(by=\"Personl_change_rate\",ascending=False).head(1) # top 10 in the +ve change rate "
   ]
  },
  {
   "cell_type": "code",
   "execution_count": 1597,
   "metadata": {
    "scrolled": false
   },
   "outputs": [
    {
     "data": {
      "text/html": [
       "<div>\n",
       "<style scoped>\n",
       "    .dataframe tbody tr th:only-of-type {\n",
       "        vertical-align: middle;\n",
       "    }\n",
       "\n",
       "    .dataframe tbody tr th {\n",
       "        vertical-align: top;\n",
       "    }\n",
       "\n",
       "    .dataframe thead th {\n",
       "        text-align: right;\n",
       "    }\n",
       "</style>\n",
       "<table border=\"1\" class=\"dataframe\">\n",
       "  <thead>\n",
       "    <tr style=\"text-align: right;\">\n",
       "      <th></th>\n",
       "      <th>Country</th>\n",
       "      <th>Code</th>\n",
       "      <th>ps_2013</th>\n",
       "      <th>ps_2014</th>\n",
       "      <th>ps_2015</th>\n",
       "      <th>ps_2016</th>\n",
       "      <th>ps_2017</th>\n",
       "      <th>ps_2018</th>\n",
       "      <th>Personl_change_rate</th>\n",
       "    </tr>\n",
       "  </thead>\n",
       "  <tbody>\n",
       "    <tr>\n",
       "      <th>55</th>\n",
       "      <td>Montenegro</td>\n",
       "      <td>MNE</td>\n",
       "      <td>74.64</td>\n",
       "      <td>74.78</td>\n",
       "      <td>71.66</td>\n",
       "      <td>69.29</td>\n",
       "      <td>69.44</td>\n",
       "      <td>66.14</td>\n",
       "      <td>-11.387996</td>\n",
       "    </tr>\n",
       "  </tbody>\n",
       "</table>\n",
       "</div>"
      ],
      "text/plain": [
       "       Country Code  ps_2013  ps_2014  ps_2015  ps_2016  ps_2017  ps_2018  \\\n",
       "55  Montenegro  MNE    74.64    74.78    71.66    69.29    69.44    66.14   \n",
       "\n",
       "    Personl_change_rate  \n",
       "55           -11.387996  "
      ]
     },
     "execution_count": 1597,
     "metadata": {},
     "output_type": "execute_result"
    }
   ],
   "source": [
    "decrese_ps.sort_values(by=\"Personl_change_rate\").head(1)"
   ]
  },
  {
   "cell_type": "markdown",
   "metadata": {},
   "source": [
    "Lets arrange the findings in a dataframe !"
   ]
  },
  {
   "cell_type": "code",
   "execution_count": 1598,
   "metadata": {},
   "outputs": [],
   "source": [
    "Theory_2 = pd.DataFrame()"
   ]
  },
  {
   "cell_type": "code",
   "execution_count": 1599,
   "metadata": {},
   "outputs": [],
   "source": [
    "Theory_2['Incresed%'] = [incresed_ps.index.value_counts().sum()/ps.index.value_counts().sum() *100]"
   ]
  },
  {
   "cell_type": "code",
   "execution_count": 1600,
   "metadata": {},
   "outputs": [],
   "source": [
    "Theory_2['Decresed%'] = [decrese_ps.index.value_counts().sum()/ps.index.value_counts().sum() *100]"
   ]
  },
  {
   "cell_type": "code",
   "execution_count": 1601,
   "metadata": {},
   "outputs": [
    {
     "data": {
      "text/html": [
       "<div>\n",
       "<style scoped>\n",
       "    .dataframe tbody tr th:only-of-type {\n",
       "        vertical-align: middle;\n",
       "    }\n",
       "\n",
       "    .dataframe tbody tr th {\n",
       "        vertical-align: top;\n",
       "    }\n",
       "\n",
       "    .dataframe thead th {\n",
       "        text-align: right;\n",
       "    }\n",
       "</style>\n",
       "<table border=\"1\" class=\"dataframe\">\n",
       "  <thead>\n",
       "    <tr style=\"text-align: right;\">\n",
       "      <th></th>\n",
       "      <th>Incresed%</th>\n",
       "      <th>Decresed%</th>\n",
       "    </tr>\n",
       "  </thead>\n",
       "  <tbody>\n",
       "    <tr>\n",
       "      <th>0</th>\n",
       "      <td>60.674157</td>\n",
       "      <td>39.325843</td>\n",
       "    </tr>\n",
       "  </tbody>\n",
       "</table>\n",
       "</div>"
      ],
      "text/plain": [
       "   Incresed%  Decresed%\n",
       "0  60.674157  39.325843"
      ]
     },
     "execution_count": 1601,
     "metadata": {},
     "output_type": "execute_result"
    }
   ],
   "source": [
    "Theory_2"
   ]
  },
  {
   "cell_type": "markdown",
   "metadata": {},
   "source": [
    "### Now lets take the 54 countries that now we know they passed both the first and second critic overviews to the last part.\n",
    "\n"
   ]
  },
  {
   "cell_type": "code",
   "execution_count": 1612,
   "metadata": {},
   "outputs": [],
   "source": [
    "#third_t = incresed_ps.to_csv('third_t__.csv')"
   ]
  },
  {
   "cell_type": "markdown",
   "metadata": {},
   "source": [
    "------------"
   ]
  },
  {
   "cell_type": "markdown",
   "metadata": {},
   "source": [
    "----------"
   ]
  },
  {
   "cell_type": "markdown",
   "metadata": {},
   "source": [
    "# Fourth part- Debt-to-GDP\n",
    "\n",
    "\n",
    "The debt-to-GDP percentage is the metric comparing a country's public debt to its gross domestic product (GDP). By comparing what a country owes with what it produces, the debt-to-GDP ratio reliably indicates that particular country’s ability to pay back its debts, however,<font color=\"red\"> there was one Country with no dept to gpd data that represent </font>\n",
    "\n",
    "- what i am going to check ? \n",
    " - First, does all countries that now have passed the pm.2.5 and personal saftey and had a incresed hdi will contrubuited positivly to the debt-to-GDP percentage ?\n",
    " - second, take healthier countries that had less than 77% of ebt-to-GDP percentage to be the finale winners in this project ! \n",
    "\n",
    "   lets see ! "
   ]
  },
  {
   "cell_type": "code",
   "execution_count": 1659,
   "metadata": {},
   "outputs": [],
   "source": [
    "dept = pd.read_csv('dept_to_gpd.csv')"
   ]
  },
  {
   "cell_type": "code",
   "execution_count": 1660,
   "metadata": {
    "scrolled": true
   },
   "outputs": [
    {
     "data": {
      "text/plain": [
       "(53, 8)"
      ]
     },
     "execution_count": 1660,
     "metadata": {},
     "output_type": "execute_result"
    }
   ],
   "source": [
    "dept.shape"
   ]
  },
  {
   "cell_type": "code",
   "execution_count": 1635,
   "metadata": {
    "scrolled": true
   },
   "outputs": [
    {
     "data": {
      "text/plain": [
       "Index(['Country', 'dt_2012', 'dt_2013', 'dt_2014', 'dt_2015', 'dt_2016',\n",
       "       'dt_2017', 'dt_2018'],\n",
       "      dtype='object')"
      ]
     },
     "execution_count": 1635,
     "metadata": {},
     "output_type": "execute_result"
    }
   ],
   "source": [
    "dept.columns"
   ]
  },
  {
   "cell_type": "code",
   "execution_count": 1636,
   "metadata": {},
   "outputs": [],
   "source": [
    "dept['change_rate_dt']= (dept['dt_2017']- dept['dt_2012'])/dept['dt_2012']*100"
   ]
  },
  {
   "cell_type": "code",
   "execution_count": 1637,
   "metadata": {
    "scrolled": true
   },
   "outputs": [
    {
     "data": {
      "text/plain": [
       "(16, 9)"
      ]
     },
     "execution_count": 1637,
     "metadata": {},
     "output_type": "execute_result"
    }
   ],
   "source": [
    "decrese_dept = dept[(dept['change_rate_dt'] <0)] # countries with decresed dept\n",
    "decrese_dept.shape"
   ]
  },
  {
   "cell_type": "code",
   "execution_count": 1638,
   "metadata": {
    "scrolled": true
   },
   "outputs": [
    {
     "data": {
      "text/plain": [
       "(37, 9)"
      ]
     },
     "execution_count": 1638,
     "metadata": {},
     "output_type": "execute_result"
    }
   ],
   "source": [
    "increse_dept = dept[(dept['change_rate_dt'] >0)] # countries with decresed dept\n",
    "increse_dept.shape"
   ]
  },
  {
   "cell_type": "code",
   "execution_count": 1645,
   "metadata": {},
   "outputs": [],
   "source": [
    "Theory_3 = pd.DataFrame()"
   ]
  },
  {
   "cell_type": "code",
   "execution_count": 1647,
   "metadata": {},
   "outputs": [],
   "source": [
    "Theory_3['Incresed%'] = [increse_dept.index.value_counts().sum()/dept.index.value_counts().sum() *100]\n",
    "Theory_3['Decresed%'] = [decrese_dept.index.value_counts().sum()/dept.index.value_counts().sum() *100]"
   ]
  },
  {
   "cell_type": "code",
   "execution_count": 1649,
   "metadata": {
    "scrolled": true
   },
   "outputs": [
    {
     "data": {
      "text/html": [
       "<div>\n",
       "<style scoped>\n",
       "    .dataframe tbody tr th:only-of-type {\n",
       "        vertical-align: middle;\n",
       "    }\n",
       "\n",
       "    .dataframe tbody tr th {\n",
       "        vertical-align: top;\n",
       "    }\n",
       "\n",
       "    .dataframe thead th {\n",
       "        text-align: right;\n",
       "    }\n",
       "</style>\n",
       "<table border=\"1\" class=\"dataframe\">\n",
       "  <thead>\n",
       "    <tr style=\"text-align: right;\">\n",
       "      <th></th>\n",
       "      <th>Incresed%</th>\n",
       "      <th>Decresed%</th>\n",
       "    </tr>\n",
       "  </thead>\n",
       "  <tbody>\n",
       "    <tr>\n",
       "      <th>0</th>\n",
       "      <td>69.811321</td>\n",
       "      <td>30.188679</td>\n",
       "    </tr>\n",
       "  </tbody>\n",
       "</table>\n",
       "</div>"
      ],
      "text/plain": [
       "   Incresed%  Decresed%\n",
       "0  69.811321  30.188679"
      ]
     },
     "execution_count": 1649,
     "metadata": {},
     "output_type": "execute_result"
    }
   ],
   "source": [
    "Theory_3"
   ]
  },
  {
   "cell_type": "markdown",
   "metadata": {},
   "source": [
    "70% of these countries actully incresed in thier dept......"
   ]
  },
  {
   "cell_type": "markdown",
   "metadata": {},
   "source": [
    "_________"
   ]
  },
  {
   "cell_type": "code",
   "execution_count": 1653,
   "metadata": {},
   "outputs": [],
   "source": [
    "#fined the healthieist countries "
   ]
  },
  {
   "cell_type": "code",
   "execution_count": 1654,
   "metadata": {},
   "outputs": [],
   "source": [
    "#Remove countries higher than 77% dept to gpd "
   ]
  },
  {
   "cell_type": "code",
   "execution_count": 1655,
   "metadata": {},
   "outputs": [],
   "source": [
    "healthy_countries = decrese_dept[decrese_dept['dt_2018'] <= 77]"
   ]
  },
  {
   "cell_type": "code",
   "execution_count": 1656,
   "metadata": {},
   "outputs": [
    {
     "data": {
      "text/plain": [
       "(15, 9)"
      ]
     },
     "execution_count": 1656,
     "metadata": {},
     "output_type": "execute_result"
    }
   ],
   "source": [
    "healthy_countries.shape"
   ]
  },
  {
   "cell_type": "code",
   "execution_count": 1657,
   "metadata": {},
   "outputs": [
    {
     "data": {
      "text/plain": [
       "(15, 9)"
      ]
     },
     "execution_count": 1657,
     "metadata": {},
     "output_type": "execute_result"
    }
   ],
   "source": [
    "healthy_countries.shape"
   ]
  },
  {
   "cell_type": "code",
   "execution_count": 1658,
   "metadata": {
    "scrolled": true
   },
   "outputs": [
    {
     "data": {
      "text/html": [
       "<div>\n",
       "<style scoped>\n",
       "    .dataframe tbody tr th:only-of-type {\n",
       "        vertical-align: middle;\n",
       "    }\n",
       "\n",
       "    .dataframe tbody tr th {\n",
       "        vertical-align: top;\n",
       "    }\n",
       "\n",
       "    .dataframe thead th {\n",
       "        text-align: right;\n",
       "    }\n",
       "</style>\n",
       "<table border=\"1\" class=\"dataframe\">\n",
       "  <thead>\n",
       "    <tr style=\"text-align: right;\">\n",
       "      <th></th>\n",
       "      <th>Country</th>\n",
       "      <th>dt_2012</th>\n",
       "      <th>dt_2013</th>\n",
       "      <th>dt_2014</th>\n",
       "      <th>dt_2015</th>\n",
       "      <th>dt_2016</th>\n",
       "      <th>dt_2017</th>\n",
       "      <th>dt_2018</th>\n",
       "      <th>change_rate_dt</th>\n",
       "    </tr>\n",
       "  </thead>\n",
       "  <tbody>\n",
       "    <tr>\n",
       "      <th>18</th>\n",
       "      <td>Iceland</td>\n",
       "      <td>89.369</td>\n",
       "      <td>81.789</td>\n",
       "      <td>79.727</td>\n",
       "      <td>65.955</td>\n",
       "      <td>51.697</td>\n",
       "      <td>39.958</td>\n",
       "      <td>37.022</td>\n",
       "      <td>-55.288747</td>\n",
       "    </tr>\n",
       "    <tr>\n",
       "      <th>21</th>\n",
       "      <td>Ireland</td>\n",
       "      <td>119.925</td>\n",
       "      <td>119.817</td>\n",
       "      <td>104.265</td>\n",
       "      <td>76.931</td>\n",
       "      <td>73.556</td>\n",
       "      <td>68.555</td>\n",
       "      <td>66.577</td>\n",
       "      <td>-42.835105</td>\n",
       "    </tr>\n",
       "    <tr>\n",
       "      <th>10</th>\n",
       "      <td>Czech Republic</td>\n",
       "      <td>44.470</td>\n",
       "      <td>44.909</td>\n",
       "      <td>42.169</td>\n",
       "      <td>39.955</td>\n",
       "      <td>36.806</td>\n",
       "      <td>34.669</td>\n",
       "      <td>33.166</td>\n",
       "      <td>-22.039577</td>\n",
       "    </tr>\n",
       "    <tr>\n",
       "      <th>11</th>\n",
       "      <td>Denmark</td>\n",
       "      <td>44.894</td>\n",
       "      <td>44.046</td>\n",
       "      <td>44.270</td>\n",
       "      <td>39.926</td>\n",
       "      <td>37.868</td>\n",
       "      <td>35.294</td>\n",
       "      <td>34.739</td>\n",
       "      <td>-21.383704</td>\n",
       "    </tr>\n",
       "    <tr>\n",
       "      <th>33</th>\n",
       "      <td>Netherlands</td>\n",
       "      <td>65.511</td>\n",
       "      <td>67.005</td>\n",
       "      <td>67.100</td>\n",
       "      <td>63.970</td>\n",
       "      <td>61.299</td>\n",
       "      <td>56.450</td>\n",
       "      <td>53.099</td>\n",
       "      <td>-13.831265</td>\n",
       "    </tr>\n",
       "  </tbody>\n",
       "</table>\n",
       "</div>"
      ],
      "text/plain": [
       "           Country  dt_2012  dt_2013  dt_2014  dt_2015  dt_2016  dt_2017  \\\n",
       "18         Iceland   89.369   81.789   79.727   65.955   51.697   39.958   \n",
       "21         Ireland  119.925  119.817  104.265   76.931   73.556   68.555   \n",
       "10  Czech Republic   44.470   44.909   42.169   39.955   36.806   34.669   \n",
       "11         Denmark   44.894   44.046   44.270   39.926   37.868   35.294   \n",
       "33     Netherlands   65.511   67.005   67.100   63.970   61.299   56.450   \n",
       "\n",
       "    dt_2018  change_rate_dt  \n",
       "18   37.022      -55.288747  \n",
       "21   66.577      -42.835105  \n",
       "10   33.166      -22.039577  \n",
       "11   34.739      -21.383704  \n",
       "33   53.099      -13.831265  "
      ]
     },
     "execution_count": 1658,
     "metadata": {},
     "output_type": "execute_result"
    }
   ],
   "source": [
    "healthy_countries.sort_values(by='change_rate_dt').head()"
   ]
  },
  {
   "cell_type": "markdown",
   "metadata": {},
   "source": [
    "# These are the countries which succesed in :\n",
    "   ####  *Maintain increasing their HDI.\n",
    "   #### * Maintain decresing their pm.2.5 rates.\n",
    "   #### * Maintain increasing their personal saftey index.\n",
    "   #### * Maintain  decresing their dept and was less than 77%.\n",
    "    \n",
    " ### which only represent only 9.37% of the countries with incresed HDI  "
   ]
  },
  {
   "cell_type": "markdown",
   "metadata": {},
   "source": [
    "# Remaining things to do : \n",
    "    - Visualztion of the data\n",
    "    - highlihgt hightest countries for postiv changes and look up thier intrvention for how did they make it."
   ]
  }
 ],
 "metadata": {
  "kernelspec": {
   "display_name": "Python 3",
   "language": "python",
   "name": "python3"
  },
  "language_info": {
   "codemirror_mode": {
    "name": "ipython",
    "version": 3
   },
   "file_extension": ".py",
   "mimetype": "text/x-python",
   "name": "python",
   "nbconvert_exporter": "python",
   "pygments_lexer": "ipython3",
   "version": "3.7.3"
  }
 },
 "nbformat": 4,
 "nbformat_minor": 2
}
